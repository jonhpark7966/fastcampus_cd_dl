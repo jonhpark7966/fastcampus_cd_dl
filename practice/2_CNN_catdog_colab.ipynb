{
  "cells": [
    {
      "cell_type": "markdown",
      "id": "a10bc2ee",
      "metadata": {
        "id": "a10bc2ee"
      },
      "source": [
        "# CNN's with the Cats vs Dogs Dataset\n",
        "\n",
        "`Cats vs Dogs` 데이터 셋을 이용해서 개/고양이 구분하는 문제를 풀어보겠습니다.  \n",
        "Convolutional Neural Network 를 사용합니다.    "
      ]
    },
    {
      "cell_type": "code",
      "execution_count": 1,
      "id": "d43abc49",
      "metadata": {
        "id": "d43abc49",
        "tags": [
          "graded"
        ]
      },
      "outputs": [],
      "source": [
        "# 필요한 라이브러리들을 import  합니다.\n",
        "\n",
        "import os\n",
        "import zipfile\n",
        "import random\n",
        "import shutil\n",
        "import tensorflow as tf\n",
        "from tensorflow.keras.preprocessing.image import ImageDataGenerator\n",
        "from shutil import copyfile\n",
        "import matplotlib.pyplot as plt"
      ]
    },
    {
      "cell_type": "markdown",
      "id": "0000eebe",
      "metadata": {
        "id": "0000eebe"
      },
      "source": [
        "데이터 셋을 다운 받습니다.\n",
        "\n",
        "\n",
        "https://download.microsoft.com/download/3/E/1/3E1C3F21-ECDB-4869-8368-6DEBA77B919F/kagglecatsanddogs_5340.zip 에서 파일을 다운 받도록 하겠습니다.  \n",
        "787MB 의 용량이니 다소 시간이 걸릴 수 있습니다.  "
      ]
    },
    {
      "cell_type": "code",
      "source": [
        "# If the URL doesn't work, visit https://www.microsoft.com/en-us/download/confirmation.aspx?id=54765\n",
        "# And right click on the 'Download Manually' link to get a new URL to the dataset\n",
        "\n",
        "# Note: This is a very large dataset and will take some time to download\n",
        "\n",
        "!wget --no-check-certificate \\\n",
        "    \"https://download.microsoft.com/download/3/E/1/3E1C3F21-ECDB-4869-8368-6DEBA77B919F/kagglecatsanddogs_5340.zip\" \\\n",
        "    -O \"/tmp/cats-and-dogs.zip\"\n",
        "\n",
        "local_zip = '/tmp/cats-and-dogs.zip'\n",
        "zip_ref   = zipfile.ZipFile(local_zip, 'r')\n",
        "zip_ref.extractall('/tmp')\n",
        "zip_ref.close()"
      ],
      "metadata": {
        "id": "j7qTPTKcE6bG",
        "outputId": "24d2a103-691b-4819-ac6d-6306f3afc6fb",
        "colab": {
          "base_uri": "https://localhost:8080/"
        }
      },
      "id": "j7qTPTKcE6bG",
      "execution_count": 3,
      "outputs": [
        {
          "output_type": "stream",
          "name": "stdout",
          "text": [
            "--2023-10-03 15:06:48--  https://download.microsoft.com/download/3/E/1/3E1C3F21-ECDB-4869-8368-6DEBA77B919F/kagglecatsanddogs_5340.zip\n",
            "Resolving download.microsoft.com (download.microsoft.com)... 96.16.172.227, 2600:1409:3800:194::317f, 2600:1409:3800:1af::317f\n",
            "Connecting to download.microsoft.com (download.microsoft.com)|96.16.172.227|:443... connected.\n",
            "HTTP request sent, awaiting response... 200 OK\n",
            "Length: 824887076 (787M) [application/octet-stream]\n",
            "Saving to: ‘/tmp/cats-and-dogs.zip’\n",
            "\n",
            "/tmp/cats-and-dogs. 100%[===================>] 786.67M  69.7MB/s    in 9.9s    \n",
            "\n",
            "2023-10-03 15:06:58 (79.3 MB/s) - ‘/tmp/cats-and-dogs.zip’ saved [824887076/824887076]\n",
            "\n"
          ]
        }
      ]
    },
    {
      "cell_type": "code",
      "source": [],
      "metadata": {
        "id": "lJl5XCQ3E6jh"
      },
      "id": "lJl5XCQ3E6jh",
      "execution_count": null,
      "outputs": []
    },
    {
      "cell_type": "markdown",
      "id": "4dd9f52b",
      "metadata": {
        "id": "4dd9f52b"
      },
      "source": [
        "압축을 풀고 파일 경로를 맞춰줍니다. `./data/PetImages` 에 데이터를 위치하시면 아래 코드와 맞습니다."
      ]
    },
    {
      "cell_type": "code",
      "execution_count": 4,
      "id": "76034c9d",
      "metadata": {
        "colab": {
          "base_uri": "https://localhost:8080/"
        },
        "id": "76034c9d",
        "outputId": "dd37eb34-f88c-4b8f-c25a-aa52277d60d1",
        "tags": [
          "graded"
        ]
      },
      "outputs": [
        {
          "output_type": "stream",
          "name": "stdout",
          "text": [
            "There are 12500 images of dogs.\n",
            "There are 12500 images of cats.\n"
          ]
        }
      ],
      "source": [
        "source_path = '/tmp/PetImages'\n",
        "\n",
        "source_path_dogs = os.path.join(source_path, 'Dog')\n",
        "source_path_cats = os.path.join(source_path, 'Cat')\n",
        "\n",
        "# .db 파일들이 섞여 있기 때문에 지워 줍니다.\n",
        "import glob, os\n",
        "for f in glob.glob(\"/tmp/PetImages/*/*.db\"):\n",
        "    os.remove(f)\n",
        "\n",
        "# os.listdir returns a list containing all files under the given path\n",
        "print(f\"There are {len(os.listdir(source_path_dogs))} images of dogs.\")\n",
        "print(f\"There are {len(os.listdir(source_path_cats))} images of cats.\")"
      ]
    },
    {
      "cell_type": "code",
      "source": [],
      "metadata": {
        "id": "aK3ip88BE5B0"
      },
      "id": "aK3ip88BE5B0",
      "execution_count": null,
      "outputs": []
    },
    {
      "cell_type": "markdown",
      "id": "1b32b528",
      "metadata": {
        "id": "1b32b528"
      },
      "source": [
        "**예상 결과:**\n",
        "\n",
        "```\n",
        "There are 12500 images of dogs.\n",
        "There are 12500 images of cats.\n",
        "```"
      ]
    },
    {
      "cell_type": "markdown",
      "id": "6753b45c",
      "metadata": {
        "id": "6753b45c"
      },
      "source": [
        "Trainig 과 Validation 을 위해 데이터를 나눠 줍니다."
      ]
    },
    {
      "cell_type": "code",
      "execution_count": 5,
      "id": "4e11c0fe",
      "metadata": {
        "id": "4e11c0fe"
      },
      "outputs": [],
      "source": [
        "root_dir = '/tmp/cats-v-dogs'\n",
        "\n",
        "# 초기화 합니다.\n",
        "if os.path.exists(root_dir):\n",
        "  shutil.rmtree(root_dir)"
      ]
    },
    {
      "cell_type": "code",
      "execution_count": 6,
      "id": "1e6c840a",
      "metadata": {
        "cellView": "code",
        "id": "1e6c840a",
        "tags": [
          "graded"
        ]
      },
      "outputs": [],
      "source": [
        "def create_train_val_dirs(root_path):\n",
        "  # 디렉토리를 준비합니다.\n",
        "\n",
        "  os.mkdir(root_path)\n",
        "  train_dir = os.path.join(root_path, 'training')\n",
        "  os.mkdir(train_dir)\n",
        "  validation_dir = os.path.join(root_path, 'validation')\n",
        "  os.mkdir(validation_dir)\n",
        "\n",
        "  # 학습용 디렉토리\n",
        "  train_cats_dir = os.path.join(train_dir, 'cats')\n",
        "  train_dogs_dir = os.path.join(train_dir, 'dogs')\n",
        "\n",
        "  # 검증용 디렉토리\n",
        "  validation_cats_dir = os.path.join(validation_dir, 'cats')\n",
        "  validation_dogs_dir = os.path.join(validation_dir, 'dogs')\n",
        "\n",
        "  os.mkdir(train_cats_dir)\n",
        "  os.mkdir(train_dogs_dir)\n",
        "  os.mkdir(validation_cats_dir)\n",
        "  os.mkdir(validation_dogs_dir)\n",
        "\n",
        "  pass\n",
        "\n",
        "try:\n",
        "  create_train_val_dirs(root_path=root_dir)\n",
        "except FileExistsError:\n",
        "  print(\"이미 존재함!\")"
      ]
    },
    {
      "cell_type": "code",
      "execution_count": 7,
      "id": "08f735fe",
      "metadata": {
        "colab": {
          "base_uri": "https://localhost:8080/"
        },
        "id": "08f735fe",
        "outputId": "e8e84c32-e9ef-4536-a957-56ddf8675695",
        "tags": [
          "graded"
        ]
      },
      "outputs": [
        {
          "output_type": "stream",
          "name": "stdout",
          "text": [
            "/tmp/cats-v-dogs/validation\n",
            "/tmp/cats-v-dogs/training\n",
            "/tmp/cats-v-dogs/validation/cats\n",
            "/tmp/cats-v-dogs/validation/dogs\n",
            "/tmp/cats-v-dogs/training/cats\n",
            "/tmp/cats-v-dogs/training/dogs\n"
          ]
        }
      ],
      "source": [
        "# Test your create_train_val_dirs function\n",
        "for rootdir, dirs, files in os.walk(root_dir):\n",
        "    for subdir in dirs:\n",
        "        print(os.path.join(rootdir, subdir))"
      ]
    },
    {
      "cell_type": "markdown",
      "id": "09e13d4e",
      "metadata": {
        "id": "09e13d4e"
      },
      "source": [
        "**예상 결과, 순서는 다를 수 있음:**\n",
        "\n",
        "``` txt\n",
        "./data/cats-v-dogs/training\n",
        "./data/cats-v-dogs/validation\n",
        "./data/cats-v-dogs/training/cats\n",
        "./data/cats-v-dogs/training/dogs\n",
        "./data/cats-v-dogs/validation/cats\n",
        "./data/cats-v-dogs/validation/dogs\n",
        "\n",
        "```"
      ]
    },
    {
      "cell_type": "markdown",
      "id": "9413f4e5",
      "metadata": {
        "id": "9413f4e5"
      },
      "source": [
        " `split_data` 함수를 만들어 봅시다\n",
        "- SOURCE_DIR: 데이터 소스 경로\n",
        "\n",
        "- TRAINING_DIR: 학습 데이터 경로\n",
        "- VALIDATION_DIR: 검증 데이터 경로\n",
        "- SPLIT_SIZE: 나눌 데이터 사이즈\n",
        "\n",
        "이미지 파일들은 랜덤하게 나워져야만 합니다.\n",
        "\n",
        "예를 들어, `SOURCE_DIR` 이고 `PetImages/Cat`,  `SPLIT_SIZE` 가 .9 라면,\n",
        "`PetImages/Cat`에 있는 90% 의 이미지는 `TRAINING_DIR` 로 복사되어야 합니다.  \n",
        "나머지 10% 의 이미지는 `VALIDATION_DIR` 로 복사되어야 합니다.  \n",
        "\n",
        "모든 이미지는 복사되기 전에 빈 파일이 아닌지 체크해야합니다.  \n",
        "\n",
        "(참고)\n",
        "\n",
        "- `os.listdir(DIRECTORY)` returns a list with the contents of that directory.\n",
        "\n",
        "- `os.path.getsize(PATH)` returns the size of the file\n",
        "\n",
        "- `copyfile(source, destination)` copies a file from source to destination\n",
        "\n",
        "- `random.sample(list, len(list))` shuffles a list"
      ]
    },
    {
      "cell_type": "code",
      "execution_count": 8,
      "id": "e1c123a7",
      "metadata": {
        "cellView": "code",
        "id": "e1c123a7",
        "tags": [
          "graded"
        ]
      },
      "outputs": [],
      "source": [
        "def split_data(SOURCE_DIR, TRAINING_DIR, VALIDATION_DIR, SPLIT_SIZE):\n",
        "\n",
        "  files = [os.path.join(SOURCE_DIR, f) for f in os.listdir(SOURCE_DIR) if os.path.isfile(os.path.join(SOURCE_DIR, f))]\n",
        "  random.shuffle(files)\n",
        "\n",
        "  files = [file for file in files if os.path.getsize(file) != 0]\n",
        "\n",
        "  train_len = int(len(files)*SPLIT_SIZE)\n",
        "\n",
        "  train_files = files[:train_len]\n",
        "  validation_files = files[train_len:]\n",
        "\n",
        "  for file_path in train_files:\n",
        "      copyfile(file_path, os.path.join(TRAINING_DIR, os.path.basename(file_path))  )\n",
        "  for file_path in validation_files:\n",
        "      copyfile(file_path, os.path.join(VALIDATION_DIR, os.path.basename(file_path)))\n",
        "\n",
        "  pass\n"
      ]
    },
    {
      "cell_type": "code",
      "execution_count": 9,
      "id": "7f488106",
      "metadata": {
        "colab": {
          "base_uri": "https://localhost:8080/"
        },
        "id": "7f488106",
        "outputId": "956fc0b5-6fdc-486c-9053-575aa9fc6c1e",
        "tags": [
          "graded"
        ]
      },
      "outputs": [
        {
          "output_type": "stream",
          "name": "stdout",
          "text": [
            "\n",
            "\n",
            "Original cat's directory has 12500 images\n",
            "Original dog's directory has 12500 images\n",
            "\n",
            "There are 11249 images of cats for training\n",
            "There are 11249 images of dogs for training\n",
            "There are 1250 images of cats for validation\n",
            "There are 1250 images of dogs for validation\n"
          ]
        }
      ],
      "source": [
        "CAT_SOURCE_DIR = \"/tmp/PetImages/Cat/\"\n",
        "DOG_SOURCE_DIR = \"/tmp/PetImages/Dog/\"\n",
        "\n",
        "TRAINING_DIR = \"/tmp/cats-v-dogs/training/\"\n",
        "VALIDATION_DIR = \"/tmp/cats-v-dogs/validation/\"\n",
        "\n",
        "TRAINING_CATS_DIR = os.path.join(TRAINING_DIR, \"cats/\")\n",
        "VALIDATION_CATS_DIR = os.path.join(VALIDATION_DIR, \"cats/\")\n",
        "\n",
        "TRAINING_DOGS_DIR = os.path.join(TRAINING_DIR, \"dogs/\")\n",
        "VALIDATION_DOGS_DIR = os.path.join(VALIDATION_DIR, \"dogs/\")\n",
        "\n",
        "\n",
        "if len(os.listdir(TRAINING_CATS_DIR)) > 0:\n",
        "  for file in os.scandir(TRAINING_CATS_DIR):\n",
        "    os.remove(file.path)\n",
        "if len(os.listdir(TRAINING_DOGS_DIR)) > 0:\n",
        "  for file in os.scandir(TRAINING_DOGS_DIR):\n",
        "    os.remove(file.path)\n",
        "if len(os.listdir(VALIDATION_CATS_DIR)) > 0:\n",
        "  for file in os.scandir(VALIDATION_CATS_DIR):\n",
        "    os.remove(file.path)\n",
        "if len(os.listdir(VALIDATION_DOGS_DIR)) > 0:\n",
        "  for file in os.scandir(VALIDATION_DOGS_DIR):\n",
        "    os.remove(file.path)\n",
        "\n",
        "\n",
        "split_size = .9\n",
        "\n",
        "split_data(CAT_SOURCE_DIR, TRAINING_CATS_DIR, VALIDATION_CATS_DIR, split_size)\n",
        "split_data(DOG_SOURCE_DIR, TRAINING_DOGS_DIR, VALIDATION_DOGS_DIR, split_size)\n",
        "\n",
        "print(f\"\\n\\nOriginal cat's directory has {len(os.listdir(CAT_SOURCE_DIR))} images\")\n",
        "print(f\"Original dog's directory has {len(os.listdir(DOG_SOURCE_DIR))} images\\n\")\n",
        "\n",
        "print(f\"There are {len(os.listdir(TRAINING_CATS_DIR))} images of cats for training\")\n",
        "print(f\"There are {len(os.listdir(TRAINING_DOGS_DIR))} images of dogs for training\")\n",
        "print(f\"There are {len(os.listdir(VALIDATION_CATS_DIR))} images of cats for validation\")\n",
        "print(f\"There are {len(os.listdir(VALIDATION_DOGS_DIR))} images of dogs for validation\")"
      ]
    },
    {
      "cell_type": "markdown",
      "id": "dbb2aedc",
      "metadata": {
        "id": "dbb2aedc"
      },
      "source": [
        "**예상 결과:**\n",
        "\n",
        "```\n",
        "Original cat's directory has 12500 images\n",
        "Original dog's directory has 12500 images\n",
        "\n",
        "There are 11249 images of cats for training\n",
        "There are 11249 images of dogs for training\n",
        "There are 1250 images of cats for validation\n",
        "There are 1250 images of dogs for validation\n",
        "```"
      ]
    },
    {
      "cell_type": "markdown",
      "id": "32a30ba6",
      "metadata": {
        "id": "32a30ba6"
      },
      "source": [
        "이제,  Keras의 `ImageDataGenerator` 를 사용할 준비가 되었습니다.  \n",
        "학습과 검증을 위한 이미지의 batch 를 만들어 봅시다.\n",
        "  \n",
        "\n",
        "중요한 점 중 하나는 이미지의 해상도가 각기 다르다는 점입니다.  \n",
        "다행히 `flow_from_directory` method 는 이미지를 같은 해상도로 만들어 줍니다.  \n",
        "`target_size` 사용하여 해상도를 맞춥니다.  \n",
        "\n",
        "\n",
        "**`target_size` 는 (150, 150) 으로 설정합니다**.\n"
      ]
    },
    {
      "cell_type": "code",
      "execution_count": 10,
      "id": "24714cb2",
      "metadata": {
        "cellView": "code",
        "id": "24714cb2",
        "tags": [
          "graded"
        ]
      },
      "outputs": [],
      "source": [
        "def train_val_generators(TRAINING_DIR, VALIDATION_DIR):\n",
        "\n",
        "  # rescale 을 이용해서 normalize 를 해줍니다. 0~1 범위로 설정합니다\n",
        "  train_datagen = ImageDataGenerator( rescale = 1.0/255. )\n",
        "\n",
        "  # data를 준비합니다.\n",
        "  train_generator = train_datagen.flow_from_directory(directory=TRAINING_DIR,\n",
        "                                                      batch_size=20,\n",
        "                                                      class_mode='binary',\n",
        "                                                      target_size=(150, 150))\n",
        "\n",
        "  validation_datagen = ImageDataGenerator( rescale = 1.0/255. )\n",
        "\n",
        "  validation_generator = validation_datagen.flow_from_directory(directory=VALIDATION_DIR,\n",
        "                                                                batch_size=20,\n",
        "                                                                class_mode='binary',\n",
        "                                                                target_size=(150, 150))\n",
        "  return train_generator, validation_generator"
      ]
    },
    {
      "cell_type": "code",
      "execution_count": 11,
      "id": "0a13c894",
      "metadata": {
        "colab": {
          "base_uri": "https://localhost:8080/"
        },
        "id": "0a13c894",
        "outputId": "2ad5b3b5-1745-41cf-932e-b6e3d8d5d1ce",
        "tags": [
          "graded"
        ]
      },
      "outputs": [
        {
          "output_type": "stream",
          "name": "stdout",
          "text": [
            "Found 22498 images belonging to 2 classes.\n",
            "Found 2500 images belonging to 2 classes.\n"
          ]
        }
      ],
      "source": [
        "train_generator, validation_generator = train_val_generators(TRAINING_DIR, VALIDATION_DIR)"
      ]
    },
    {
      "cell_type": "markdown",
      "id": "2992173c",
      "metadata": {
        "id": "2992173c"
      },
      "source": [
        "**예상 결과:**\n",
        "\n",
        "```\n",
        "Found 22498 images belonging to 2 classes.\n",
        "Found 2500 images belonging to 2 classes.\n",
        "```\n"
      ]
    },
    {
      "cell_type": "markdown",
      "id": "4b01ac22",
      "metadata": {
        "id": "4b01ac22"
      },
      "source": [
        "모델의 정의합니다.\n",
        "\n",
        "Keras' `Sequential` model을 사용합니다\n",
        "\n",
        "`loss` 도 `class_mode` 에 맞게 설정합니다.\n",
        "\n",
        "**최소한 3개의 convolution layer 가 있어야 개/고양이를 잘 구분할 수 있습니다.**"
      ]
    },
    {
      "cell_type": "code",
      "execution_count": 12,
      "id": "2141d195",
      "metadata": {
        "cellView": "code",
        "id": "2141d195",
        "lines_to_next_cell": 2,
        "tags": [
          "graded"
        ]
      },
      "outputs": [],
      "source": [
        "def create_model():\n",
        "\n",
        "  model = tf.keras.models.Sequential([\n",
        "    tf.keras.layers.Conv2D(16, (3,3), activation='relu', input_shape=(150, 150, 3)),\n",
        "    tf.keras.layers.MaxPooling2D(2,2),\n",
        "    tf.keras.layers.Conv2D(32, (3,3), activation='relu'),\n",
        "    tf.keras.layers.MaxPooling2D(2,2),\n",
        "    tf.keras.layers.Conv2D(64, (3,3), activation='relu'),\n",
        "    tf.keras.layers.MaxPooling2D(2,2),\n",
        "    tf.keras.layers.Flatten(),\n",
        "    tf.keras.layers.Dense(512, activation='relu'),\n",
        "    tf.keras.layers.Dense(1, activation='sigmoid')\n",
        "  ])\n",
        "\n",
        "  model.compile(optimizer='adam',\n",
        "              loss='binary_crossentropy',\n",
        "              metrics = ['accuracy'])\n",
        "\n",
        "  return model"
      ]
    },
    {
      "cell_type": "markdown",
      "id": "5fe2ed9f",
      "metadata": {
        "id": "5fe2ed9f"
      },
      "source": [
        "학습 시작!\n",
        "\n",
        "**Note:** `UserWarning: Possibly corrupt EXIF data` 워닝은 무시하셔도 됩니다"
      ]
    },
    {
      "cell_type": "code",
      "execution_count": 13,
      "id": "87cbef80",
      "metadata": {
        "colab": {
          "base_uri": "https://localhost:8080/"
        },
        "id": "87cbef80",
        "outputId": "1cff98a5-abb6-4478-ce49-280726ea71ca",
        "tags": []
      },
      "outputs": [
        {
          "output_type": "stream",
          "name": "stdout",
          "text": [
            "Epoch 1/15\n",
            " 739/1125 [==================>...........] - ETA: 16s - loss: 0.6252 - accuracy: 0.6491"
          ]
        },
        {
          "output_type": "stream",
          "name": "stderr",
          "text": [
            "/usr/local/lib/python3.10/dist-packages/PIL/TiffImagePlugin.py:858: UserWarning: Truncated File Read\n",
            "  warnings.warn(str(msg))\n"
          ]
        },
        {
          "output_type": "stream",
          "name": "stdout",
          "text": [
            "1125/1125 [==============================] - 64s 46ms/step - loss: 0.5910 - accuracy: 0.6778 - val_loss: 0.5037 - val_accuracy: 0.7536\n",
            "Epoch 2/15\n",
            "1125/1125 [==============================] - 51s 45ms/step - loss: 0.4598 - accuracy: 0.7835 - val_loss: 0.4434 - val_accuracy: 0.7864\n",
            "Epoch 3/15\n",
            "1125/1125 [==============================] - 50s 44ms/step - loss: 0.3793 - accuracy: 0.8281 - val_loss: 0.4187 - val_accuracy: 0.8124\n",
            "Epoch 4/15\n",
            "1125/1125 [==============================] - 51s 46ms/step - loss: 0.2984 - accuracy: 0.8735 - val_loss: 0.4165 - val_accuracy: 0.8256\n",
            "Epoch 5/15\n",
            "1125/1125 [==============================] - 50s 45ms/step - loss: 0.1936 - accuracy: 0.9204 - val_loss: 0.5023 - val_accuracy: 0.8124\n",
            "Epoch 6/15\n",
            "1125/1125 [==============================] - 50s 45ms/step - loss: 0.0970 - accuracy: 0.9638 - val_loss: 0.6293 - val_accuracy: 0.8184\n",
            "Epoch 7/15\n",
            "1125/1125 [==============================] - 51s 45ms/step - loss: 0.0572 - accuracy: 0.9808 - val_loss: 0.8406 - val_accuracy: 0.8132\n",
            "Epoch 8/15\n",
            "1125/1125 [==============================] - 54s 48ms/step - loss: 0.0381 - accuracy: 0.9879 - val_loss: 0.9533 - val_accuracy: 0.8120\n",
            "Epoch 9/15\n",
            "1125/1125 [==============================] - 50s 44ms/step - loss: 0.0319 - accuracy: 0.9892 - val_loss: 0.9279 - val_accuracy: 0.8128\n",
            "Epoch 10/15\n",
            "1125/1125 [==============================] - 51s 45ms/step - loss: 0.0231 - accuracy: 0.9924 - val_loss: 1.2036 - val_accuracy: 0.8008\n",
            "Epoch 11/15\n",
            "1125/1125 [==============================] - 51s 45ms/step - loss: 0.0249 - accuracy: 0.9922 - val_loss: 1.1887 - val_accuracy: 0.8048\n",
            "Epoch 12/15\n",
            "1125/1125 [==============================] - 51s 45ms/step - loss: 0.0282 - accuracy: 0.9912 - val_loss: 1.2900 - val_accuracy: 0.8012\n",
            "Epoch 13/15\n",
            "1125/1125 [==============================] - 51s 45ms/step - loss: 0.0255 - accuracy: 0.9912 - val_loss: 1.3273 - val_accuracy: 0.8024\n",
            "Epoch 14/15\n",
            "1125/1125 [==============================] - 50s 45ms/step - loss: 0.0181 - accuracy: 0.9943 - val_loss: 1.2850 - val_accuracy: 0.8016\n",
            "Epoch 15/15\n",
            "1125/1125 [==============================] - 50s 45ms/step - loss: 0.0193 - accuracy: 0.9944 - val_loss: 1.2340 - val_accuracy: 0.8096\n"
          ]
        }
      ],
      "source": [
        "model = create_model()\n",
        "\n",
        "history = model.fit(train_generator,\n",
        "                    epochs=15,\n",
        "                    verbose=1,\n",
        "                    validation_data=validation_generator)"
      ]
    },
    {
      "cell_type": "markdown",
      "id": "80ccc14c",
      "metadata": {
        "id": "80ccc14c"
      },
      "source": [
        "학습이 완료되면 아래 코드를 이용해서 얼마나 잘 구분을 하는지 확인 할 수 있습니다..\n",
        "\n",
        "**Training accuracy 는 적어도 95%, validation accuracy 는 적어도 80%** 가 나와야 충분합니다.  \n",
        "다양한 옵션들을 사용하면 성능을 더 끌어올릴 수 있습니다."
      ]
    },
    {
      "cell_type": "code",
      "execution_count": 14,
      "id": "32146607",
      "metadata": {
        "colab": {
          "base_uri": "https://localhost:8080/",
          "height": 883
        },
        "id": "32146607",
        "outputId": "01b350d8-63c2-47db-ec1f-9b0394274e96",
        "tags": []
      },
      "outputs": [
        {
          "output_type": "display_data",
          "data": {
            "text/plain": [
              "<Figure size 640x480 with 1 Axes>"
            ],
            "image/png": "[encoded data removed]"
          },
          "metadata": {}
        },
        {
          "output_type": "stream",
          "name": "stdout",
          "text": [
            "\n"
          ]
        },
        {
          "output_type": "display_data",
          "data": {
            "text/plain": [
              "<Figure size 640x480 with 1 Axes>"
            ],
            "image/png": "[encoded data removed]"
          },
          "metadata": {}
        }
      ],
      "source": [
        "#-----------------------------------------------------------\n",
        "# Retrieve a list of list results on training and test data\n",
        "# sets for each training epoch\n",
        "#-----------------------------------------------------------\n",
        "acc=history.history['accuracy']\n",
        "val_acc=history.history['val_accuracy']\n",
        "loss=history.history['loss']\n",
        "val_loss=history.history['val_loss']\n",
        "\n",
        "epochs=range(len(acc)) # Get number of epochs\n",
        "\n",
        "#------------------------------------------------\n",
        "# Plot training and validation accuracy per epoch\n",
        "#------------------------------------------------\n",
        "plt.plot(epochs, acc, 'r', \"Training Accuracy\")\n",
        "plt.plot(epochs, val_acc, 'b', \"Validation Accuracy\")\n",
        "plt.title('Training and validation accuracy')\n",
        "plt.show()\n",
        "print(\"\")\n",
        "\n",
        "#------------------------------------------------\n",
        "# Plot training and validation loss per epoch\n",
        "#------------------------------------------------\n",
        "plt.plot(epochs, loss, 'r', \"Training Loss\")\n",
        "plt.plot(epochs, val_loss, 'b', \"Validation Loss\")\n",
        "plt.show()"
      ]
    },
    {
      "cell_type": "code",
      "source": [],
      "metadata": {
        "id": "EMG5yN6EI3mQ"
      },
      "id": "EMG5yN6EI3mQ",
      "execution_count": null,
      "outputs": []
    },
    {
      "cell_type": "markdown",
      "id": "3288957c",
      "metadata": {
        "id": "3288957c"
      },
      "source": [
        "Overfitting 에 대해 생각해 봅시다... ㅠㅠ\n",
        "\n",
        "Overfitting 은 여러가지 방법으로 해결할 수 있지만, computer vision 분야에서 가장 쉬운 해결책 중 하나는 Data Augmentation 입니다.  \n",
        "Data Augmentation 은 overfitting 문제 뿐만 아니라, data 가 부족한 경우, underfitting 문제도 해결이 가능할 수 있습니다.  \n",
        "이 외에도, training 의 품질을 올릴 수 있습니다.  "
      ]
    },
    {
      "cell_type": "code",
      "source": [
        "# Create new model\n",
        "model_for_aug = create_model()\n",
        "\n",
        "# This code has changed. Now instead of the ImageGenerator just rescaling\n",
        "# the image, we also rotate and do other operations\n",
        "train_datagen = ImageDataGenerator(\n",
        "      rescale=1./255,\n",
        "      rotation_range=40,\n",
        "      width_shift_range=0.2,\n",
        "      height_shift_range=0.2,\n",
        "      shear_range=0.2,\n",
        "      zoom_range=0.2,\n",
        "      horizontal_flip=True,\n",
        "      fill_mode='nearest')\n",
        "\n",
        "test_datagen = ImageDataGenerator(rescale=1./255)\n",
        "\n",
        "# Flow training images in batches of 20 using train_datagen generator\n",
        "train_generator = train_datagen.flow_from_directory(\n",
        "        TRAINING_DIR,  # This is the source directory for training images\n",
        "        target_size=(150, 150),  # All images will be resized to 150x150\n",
        "        batch_size=20,\n",
        "        # Since we use binary_crossentropy loss, we need binary labels\n",
        "        class_mode='binary')\n",
        "\n",
        "# Flow validation images in batches of 20 using test_datagen generator\n",
        "validation_generator = test_datagen.flow_from_directory(\n",
        "        VALIDATION_DIR,\n",
        "        target_size=(150, 150),\n",
        "        batch_size=20,\n",
        "        class_mode='binary')\n",
        "\n",
        "# Train the new model\n",
        "history_with_aug = model_for_aug.fit(train_generator,\n",
        "                    epochs=15,\n",
        "                    verbose=1,\n",
        "                    validation_data=validation_generator)"
      ],
      "metadata": {
        "id": "jQl-VMArIkCI",
        "outputId": "9fa65dd7-3ab2-46ec-9754-27a6b23dde4c",
        "colab": {
          "base_uri": "https://localhost:8080/"
        }
      },
      "id": "jQl-VMArIkCI",
      "execution_count": 16,
      "outputs": [
        {
          "output_type": "stream",
          "name": "stdout",
          "text": [
            "Found 22498 images belonging to 2 classes.\n",
            "Found 2500 images belonging to 2 classes.\n",
            "Epoch 1/15\n",
            "1125/1125 [==============================] - 172s 151ms/step - loss: 0.6834 - accuracy: 0.5637 - val_loss: 0.6500 - val_accuracy: 0.6228\n",
            "Epoch 2/15\n",
            "1125/1125 [==============================] - 188s 167ms/step - loss: 0.6211 - accuracy: 0.6520 - val_loss: 0.5936 - val_accuracy: 0.6740\n",
            "Epoch 3/15\n",
            "1125/1125 [==============================] - 167s 148ms/step - loss: 0.5590 - accuracy: 0.7095 - val_loss: 0.5011 - val_accuracy: 0.7688\n",
            "Epoch 4/15\n",
            "1125/1125 [==============================] - 164s 146ms/step - loss: 0.5355 - accuracy: 0.7310 - val_loss: 0.5095 - val_accuracy: 0.7456\n",
            "Epoch 5/15\n",
            "1125/1125 [==============================] - 168s 149ms/step - loss: 0.5199 - accuracy: 0.7400 - val_loss: 0.4359 - val_accuracy: 0.8080\n",
            "Epoch 6/15\n",
            "1125/1125 [==============================] - 168s 149ms/step - loss: 0.5051 - accuracy: 0.7493 - val_loss: 0.4409 - val_accuracy: 0.8020\n",
            "Epoch 7/15\n",
            "1125/1125 [==============================] - 164s 145ms/step - loss: 0.4943 - accuracy: 0.7576 - val_loss: 0.4209 - val_accuracy: 0.8040\n",
            "Epoch 8/15\n",
            "1125/1125 [==============================] - 167s 149ms/step - loss: 0.4771 - accuracy: 0.7723 - val_loss: 0.3949 - val_accuracy: 0.8256\n",
            "Epoch 9/15\n",
            "1125/1125 [==============================] - 165s 147ms/step - loss: 0.4673 - accuracy: 0.7783 - val_loss: 0.3839 - val_accuracy: 0.8300\n",
            "Epoch 10/15\n",
            "1125/1125 [==============================] - 165s 147ms/step - loss: 0.4490 - accuracy: 0.7912 - val_loss: 0.4057 - val_accuracy: 0.8256\n",
            "Epoch 11/15\n",
            "1125/1125 [==============================] - 166s 147ms/step - loss: 0.4413 - accuracy: 0.7930 - val_loss: 0.3596 - val_accuracy: 0.8476\n",
            "Epoch 12/15\n",
            "1125/1125 [==============================] - 166s 148ms/step - loss: 0.4282 - accuracy: 0.8018 - val_loss: 0.3461 - val_accuracy: 0.8416\n",
            "Epoch 13/15\n",
            "1125/1125 [==============================] - 165s 147ms/step - loss: 0.4117 - accuracy: 0.8121 - val_loss: 0.3695 - val_accuracy: 0.8436\n",
            "Epoch 14/15\n",
            "1125/1125 [==============================] - 166s 148ms/step - loss: 0.4087 - accuracy: 0.8116 - val_loss: 0.3912 - val_accuracy: 0.8288\n",
            "Epoch 15/15\n",
            "1125/1125 [==============================] - 166s 148ms/step - loss: 0.3962 - accuracy: 0.8198 - val_loss: 0.3632 - val_accuracy: 0.8548\n"
          ]
        }
      ]
    },
    {
      "cell_type": "code",
      "source": [
        "#-----------------------------------------------------------\n",
        "# Retrieve a list of list results on training and test data\n",
        "# sets for each training epoch\n",
        "#-----------------------------------------------------------\n",
        "acc=history_with_aug.history['accuracy']\n",
        "val_acc=history_with_aug.history['val_accuracy']\n",
        "loss=history_with_aug.history['loss']\n",
        "val_loss=history_with_aug.history['val_loss']\n",
        "\n",
        "epochs=range(len(acc)) # Get number of epochs\n",
        "\n",
        "#------------------------------------------------\n",
        "# Plot training and validation accuracy per epoch\n",
        "#------------------------------------------------\n",
        "plt.plot(epochs, acc, 'r', \"Training Accuracy\")\n",
        "plt.plot(epochs, val_acc, 'b', \"Validation Accuracy\")\n",
        "plt.title('Training and validation accuracy')\n",
        "plt.show()\n",
        "print(\"\")\n",
        "\n",
        "#------------------------------------------------\n",
        "# Plot training and validation loss per epoch\n",
        "#------------------------------------------------\n",
        "plt.plot(epochs, loss, 'r', \"Training Loss\")\n",
        "plt.plot(epochs, val_loss, 'b', \"Validation Loss\")\n",
        "plt.show()"
      ],
      "metadata": {
        "id": "VVm20G2EI4js",
        "outputId": "e2914042-5b56-4279-be36-51075f968677",
        "colab": {
          "base_uri": "https://localhost:8080/",
          "height": 883
        }
      },
      "id": "VVm20G2EI4js",
      "execution_count": 17,
      "outputs": [
        {
          "output_type": "display_data",
          "data": {
            "text/plain": [
              "<Figure size 640x480 with 1 Axes>"
            ],
            "image/png": "[encoded data removed]"
          },
          "metadata": {}
        },
        {
          "output_type": "stream",
          "name": "stdout",
          "text": [
            "\n"
          ]
        },
        {
          "output_type": "display_data",
          "data": {
            "text/plain": [
              "<Figure size 640x480 with 1 Axes>"
            ],
            "image/png": "[encoded data removed]"
          },
          "metadata": {}
        }
      ]
    }
  ],
  "metadata": {
    "accelerator": "GPU",
    "colab": {
      "provenance": []
    },
    "kernelspec": {
      "display_name": "Python 3 (ipykernel)",
      "language": "python",
      "name": "python3"
    },
    "language_info": {
      "codemirror_mode": {
        "name": "ipython",
        "version": 3
      },
      "file_extension": ".py",
      "mimetype": "text/x-python",
      "name": "python",
      "nbconvert_exporter": "python",
      "pygments_lexer": "ipython3",
      "version": "3.10.9"
    }
  },
  "nbformat": 4,
  "nbformat_minor": 5
}